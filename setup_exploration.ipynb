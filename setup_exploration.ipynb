{
 "cells": [
  {
   "cell_type": "code",
   "execution_count": 1,
   "metadata": {},
   "outputs": [],
   "source": [
    "import pandas as pd\n",
    "import datetime as dt\n",
    "import matplotlib.pyplot as plt\n",
    "import numpy as np"
   ]
  },
  {
   "cell_type": "markdown",
   "metadata": {},
   "source": [
    "# Questions\n",
    "1. Are the distribution of ratings for recipes based on their categories consistent?\n",
    "2. Overtime, can you see popularity in certain \"health\" foods show up?\n",
    "3. Do certain keywords correspond to reviews? "
   ]
  },
  {
   "cell_type": "markdown",
   "metadata": {},
   "source": [
    "# Import CSVs"
   ]
  },
  {
   "cell_type": "code",
   "execution_count": 3,
   "metadata": {},
   "outputs": [
    {
     "data": {
      "text/html": [
       "<div>\n",
       "<style scoped>\n",
       "    .dataframe tbody tr th:only-of-type {\n",
       "        vertical-align: middle;\n",
       "    }\n",
       "\n",
       "    .dataframe tbody tr th {\n",
       "        vertical-align: top;\n",
       "    }\n",
       "\n",
       "    .dataframe thead th {\n",
       "        text-align: right;\n",
       "    }\n",
       "</style>\n",
       "<table border=\"1\" class=\"dataframe\">\n",
       "  <thead>\n",
       "    <tr style=\"text-align: right;\">\n",
       "      <th></th>\n",
       "      <th>RecipeId</th>\n",
       "      <th>Name</th>\n",
       "      <th>AuthorId</th>\n",
       "      <th>AuthorName</th>\n",
       "      <th>CookTime</th>\n",
       "      <th>PrepTime</th>\n",
       "      <th>TotalTime</th>\n",
       "      <th>DatePublished</th>\n",
       "      <th>Description</th>\n",
       "      <th>Images</th>\n",
       "      <th>...</th>\n",
       "      <th>SaturatedFatContent</th>\n",
       "      <th>CholesterolContent</th>\n",
       "      <th>SodiumContent</th>\n",
       "      <th>CarbohydrateContent</th>\n",
       "      <th>FiberContent</th>\n",
       "      <th>SugarContent</th>\n",
       "      <th>ProteinContent</th>\n",
       "      <th>RecipeServings</th>\n",
       "      <th>RecipeYield</th>\n",
       "      <th>RecipeInstructions</th>\n",
       "    </tr>\n",
       "  </thead>\n",
       "  <tbody>\n",
       "    <tr>\n",
       "      <th>0</th>\n",
       "      <td>38</td>\n",
       "      <td>Low-Fat Berry Blue Frozen Dessert</td>\n",
       "      <td>1533</td>\n",
       "      <td>Dancer</td>\n",
       "      <td>PT24H</td>\n",
       "      <td>PT45M</td>\n",
       "      <td>PT24H45M</td>\n",
       "      <td>1999-08-09T21:46:00Z</td>\n",
       "      <td>Make and share this Low-Fat Berry Blue Frozen ...</td>\n",
       "      <td>c(\"https://img.sndimg.com/food/image/upload/w_...</td>\n",
       "      <td>...</td>\n",
       "      <td>1.3</td>\n",
       "      <td>8.0</td>\n",
       "      <td>29.8</td>\n",
       "      <td>37.1</td>\n",
       "      <td>3.6</td>\n",
       "      <td>30.2</td>\n",
       "      <td>3.2</td>\n",
       "      <td>4.0</td>\n",
       "      <td>NaN</td>\n",
       "      <td>c(\"Toss 2 cups berries with sugar.\", \"Let stan...</td>\n",
       "    </tr>\n",
       "    <tr>\n",
       "      <th>1</th>\n",
       "      <td>39</td>\n",
       "      <td>Biryani</td>\n",
       "      <td>1567</td>\n",
       "      <td>elly9812</td>\n",
       "      <td>PT25M</td>\n",
       "      <td>PT4H</td>\n",
       "      <td>PT4H25M</td>\n",
       "      <td>1999-08-29T13:12:00Z</td>\n",
       "      <td>Make and share this Biryani recipe from Food.com.</td>\n",
       "      <td>c(\"https://img.sndimg.com/food/image/upload/w_...</td>\n",
       "      <td>...</td>\n",
       "      <td>16.6</td>\n",
       "      <td>372.8</td>\n",
       "      <td>368.4</td>\n",
       "      <td>84.4</td>\n",
       "      <td>9.0</td>\n",
       "      <td>20.4</td>\n",
       "      <td>63.4</td>\n",
       "      <td>6.0</td>\n",
       "      <td>NaN</td>\n",
       "      <td>c(\"Soak saffron in warm milk for 5 minutes and...</td>\n",
       "    </tr>\n",
       "    <tr>\n",
       "      <th>2</th>\n",
       "      <td>40</td>\n",
       "      <td>Best Lemonade</td>\n",
       "      <td>1566</td>\n",
       "      <td>Stephen Little</td>\n",
       "      <td>PT5M</td>\n",
       "      <td>PT30M</td>\n",
       "      <td>PT35M</td>\n",
       "      <td>1999-09-05T19:52:00Z</td>\n",
       "      <td>This is from one of my  first Good House Keepi...</td>\n",
       "      <td>c(\"https://img.sndimg.com/food/image/upload/w_...</td>\n",
       "      <td>...</td>\n",
       "      <td>0.0</td>\n",
       "      <td>0.0</td>\n",
       "      <td>1.8</td>\n",
       "      <td>81.5</td>\n",
       "      <td>0.4</td>\n",
       "      <td>77.2</td>\n",
       "      <td>0.3</td>\n",
       "      <td>4.0</td>\n",
       "      <td>NaN</td>\n",
       "      <td>c(\"Into a 1 quart Jar with tight fitting lid, ...</td>\n",
       "    </tr>\n",
       "    <tr>\n",
       "      <th>3</th>\n",
       "      <td>41</td>\n",
       "      <td>Carina's Tofu-Vegetable Kebabs</td>\n",
       "      <td>1586</td>\n",
       "      <td>Cyclopz</td>\n",
       "      <td>PT20M</td>\n",
       "      <td>PT24H</td>\n",
       "      <td>PT24H20M</td>\n",
       "      <td>1999-09-03T14:54:00Z</td>\n",
       "      <td>This dish is best prepared a day in advance to...</td>\n",
       "      <td>c(\"https://img.sndimg.com/food/image/upload/w_...</td>\n",
       "      <td>...</td>\n",
       "      <td>3.8</td>\n",
       "      <td>0.0</td>\n",
       "      <td>1558.6</td>\n",
       "      <td>64.2</td>\n",
       "      <td>17.3</td>\n",
       "      <td>32.1</td>\n",
       "      <td>29.3</td>\n",
       "      <td>2.0</td>\n",
       "      <td>4 kebabs</td>\n",
       "      <td>c(\"Drain the tofu, carefully squeezing out exc...</td>\n",
       "    </tr>\n",
       "    <tr>\n",
       "      <th>4</th>\n",
       "      <td>42</td>\n",
       "      <td>Cabbage Soup</td>\n",
       "      <td>1538</td>\n",
       "      <td>Duckie067</td>\n",
       "      <td>PT30M</td>\n",
       "      <td>PT20M</td>\n",
       "      <td>PT50M</td>\n",
       "      <td>1999-09-19T06:19:00Z</td>\n",
       "      <td>Make and share this Cabbage Soup recipe from F...</td>\n",
       "      <td>\"https://img.sndimg.com/food/image/upload/w_55...</td>\n",
       "      <td>...</td>\n",
       "      <td>0.1</td>\n",
       "      <td>0.0</td>\n",
       "      <td>959.3</td>\n",
       "      <td>25.1</td>\n",
       "      <td>4.8</td>\n",
       "      <td>17.7</td>\n",
       "      <td>4.3</td>\n",
       "      <td>4.0</td>\n",
       "      <td>NaN</td>\n",
       "      <td>c(\"Mix everything together and bring to a boil...</td>\n",
       "    </tr>\n",
       "  </tbody>\n",
       "</table>\n",
       "<p>5 rows × 28 columns</p>\n",
       "</div>"
      ],
      "text/plain": [
       "   RecipeId                               Name  AuthorId      AuthorName  \\\n",
       "0        38  Low-Fat Berry Blue Frozen Dessert      1533          Dancer   \n",
       "1        39                            Biryani      1567        elly9812   \n",
       "2        40                      Best Lemonade      1566  Stephen Little   \n",
       "3        41     Carina's Tofu-Vegetable Kebabs      1586         Cyclopz   \n",
       "4        42                       Cabbage Soup      1538       Duckie067   \n",
       "\n",
       "  CookTime PrepTime TotalTime         DatePublished  \\\n",
       "0    PT24H    PT45M  PT24H45M  1999-08-09T21:46:00Z   \n",
       "1    PT25M     PT4H   PT4H25M  1999-08-29T13:12:00Z   \n",
       "2     PT5M    PT30M     PT35M  1999-09-05T19:52:00Z   \n",
       "3    PT20M    PT24H  PT24H20M  1999-09-03T14:54:00Z   \n",
       "4    PT30M    PT20M     PT50M  1999-09-19T06:19:00Z   \n",
       "\n",
       "                                         Description  \\\n",
       "0  Make and share this Low-Fat Berry Blue Frozen ...   \n",
       "1  Make and share this Biryani recipe from Food.com.   \n",
       "2  This is from one of my  first Good House Keepi...   \n",
       "3  This dish is best prepared a day in advance to...   \n",
       "4  Make and share this Cabbage Soup recipe from F...   \n",
       "\n",
       "                                              Images  ... SaturatedFatContent  \\\n",
       "0  c(\"https://img.sndimg.com/food/image/upload/w_...  ...                 1.3   \n",
       "1  c(\"https://img.sndimg.com/food/image/upload/w_...  ...                16.6   \n",
       "2  c(\"https://img.sndimg.com/food/image/upload/w_...  ...                 0.0   \n",
       "3  c(\"https://img.sndimg.com/food/image/upload/w_...  ...                 3.8   \n",
       "4  \"https://img.sndimg.com/food/image/upload/w_55...  ...                 0.1   \n",
       "\n",
       "  CholesterolContent SodiumContent CarbohydrateContent  FiberContent  \\\n",
       "0                8.0          29.8                37.1           3.6   \n",
       "1              372.8         368.4                84.4           9.0   \n",
       "2                0.0           1.8                81.5           0.4   \n",
       "3                0.0        1558.6                64.2          17.3   \n",
       "4                0.0         959.3                25.1           4.8   \n",
       "\n",
       "   SugarContent  ProteinContent  RecipeServings  RecipeYield  \\\n",
       "0          30.2             3.2             4.0          NaN   \n",
       "1          20.4            63.4             6.0          NaN   \n",
       "2          77.2             0.3             4.0          NaN   \n",
       "3          32.1            29.3             2.0     4 kebabs   \n",
       "4          17.7             4.3             4.0          NaN   \n",
       "\n",
       "                                  RecipeInstructions  \n",
       "0  c(\"Toss 2 cups berries with sugar.\", \"Let stan...  \n",
       "1  c(\"Soak saffron in warm milk for 5 minutes and...  \n",
       "2  c(\"Into a 1 quart Jar with tight fitting lid, ...  \n",
       "3  c(\"Drain the tofu, carefully squeezing out exc...  \n",
       "4  c(\"Mix everything together and bring to a boil...  \n",
       "\n",
       "[5 rows x 28 columns]"
      ]
     },
     "execution_count": 3,
     "metadata": {},
     "output_type": "execute_result"
    }
   ],
   "source": [
    "# Import recipes and look at first 5 rows\n",
    "recipes = pd.read_csv(\"../og_files/recipes.csv\")\n",
    "recipes.head(5)"
   ]
  },
  {
   "cell_type": "markdown",
   "metadata": {},
   "source": [
    "# Question 1: Average Rating Based on Categories? "
   ]
  },
  {
   "cell_type": "code",
   "execution_count": 5,
   "metadata": {},
   "outputs": [
    {
     "data": {
      "text/plain": [
       "Index(['RecipeId', 'Name', 'AuthorId', 'AuthorName', 'CookTime', 'PrepTime',\n",
       "       'TotalTime', 'DatePublished', 'Description', 'Images', 'RecipeCategory',\n",
       "       'Keywords', 'RecipeIngredientQuantities', 'RecipeIngredientParts',\n",
       "       'AggregatedRating', 'ReviewCount', 'Calories', 'FatContent',\n",
       "       'SaturatedFatContent', 'CholesterolContent', 'SodiumContent',\n",
       "       'CarbohydrateContent', 'FiberContent', 'SugarContent', 'ProteinContent',\n",
       "       'RecipeServings', 'RecipeYield', 'RecipeInstructions'],\n",
       "      dtype='object')"
      ]
     },
     "execution_count": 5,
     "metadata": {},
     "output_type": "execute_result"
    }
   ],
   "source": [
    "# Take a look at columns of the recipes df\n",
    "recipes.columns"
   ]
  },
  {
   "cell_type": "code",
   "execution_count": 8,
   "metadata": {},
   "outputs": [
    {
     "data": {
      "text/plain": [
       "array(['Frozen Desserts', 'Chicken Breast', 'Beverages', 'Soy/Tofu',\n",
       "       'Vegetable', 'Pie', 'Chicken', 'Dessert', 'Southwestern U.S.',\n",
       "       'Sauces', 'Stew', 'Black Beans', '< 60 Mins', 'Lactose Free',\n",
       "       'Weeknight', 'Yeast Breads', 'Whole Chicken', 'High Protein',\n",
       "       'Cheesecake', 'Free Of...', 'High In...', 'Brazilian', 'Breakfast',\n",
       "       'Breads', 'Bar Cookie', 'Brown Rice', 'Oranges', 'Pork',\n",
       "       'Low Protein', 'Asian', 'Potato', 'Cheese', 'Halibut', 'Meat',\n",
       "       'Lamb/Sheep', 'Very Low Carbs', 'Spaghetti', 'Scones',\n",
       "       'Drop Cookies', 'Lunch/Snacks', 'Beans', 'Punch Beverage',\n",
       "       'Pineapple', 'Low Cholesterol', '< 30 Mins', 'Quick Breads',\n",
       "       'Sourdough Breads', 'Curries', 'Chicken Livers', 'Coconut',\n",
       "       'Savory Pies', 'Poultry', 'Steak', 'Healthy', 'Lobster', 'Rice',\n",
       "       'Apple', 'Broil/Grill', 'Spreads', 'Crab', 'Jellies', 'Pears',\n",
       "       'Chowders', 'Cauliflower', 'Candy', 'Chutneys', 'White Rice',\n",
       "       'Tex Mex', 'Bass', 'German', 'Fruit', 'European', 'Smoothies',\n",
       "       'Hungarian', 'Manicotti', 'Onions', 'New Zealand',\n",
       "       'Chicken Thigh & Leg', 'Indonesian', 'Greek', 'Corn', 'Lentil',\n",
       "       'Summer', 'Long Grain Rice', 'Southwest Asia (middle East)',\n",
       "       'Spanish', 'Dutch', 'Gelatin', 'Tuna', 'Citrus', 'Berries',\n",
       "       'Peppers', 'Salad Dressings', 'Clear Soup', 'Mexican',\n",
       "       'Raspberries', 'Crawfish', 'Beef Organ Meats', 'Strawberry',\n",
       "       'Shakes', 'Short Grain Rice', '< 15 Mins', 'One Dish Meal',\n",
       "       'Spicy', 'Thai', 'Cajun', 'Oven', 'Microwave', 'Russian', 'Melons',\n",
       "       'Swiss', 'Papaya', 'Veal', 'No Cook', '< 4 Hours', nan, 'Roast',\n",
       "       'Potluck', 'Orange Roughy', 'Canadian', 'Caribbean', 'Mussels',\n",
       "       'Medium Grain Rice', 'Japanese', 'Penne', 'Easy', 'Elk',\n",
       "       'Colombian', 'Gumbo', 'Roast Beef', 'Perch', 'Vietnamese',\n",
       "       'Rabbit', 'Christmas', 'Lebanese', 'Turkish', 'Kid Friendly',\n",
       "       'Vegan', 'For Large Groups', 'Whole Turkey', 'Chinese', 'Grains',\n",
       "       'Yam/Sweet Potato', 'Native American', 'Meatloaf', 'Winter',\n",
       "       'Trout', 'African', 'Ham', 'Goose', 'Pasta Shells', 'Stocks',\n",
       "       \"St. Patrick's Day\", 'Meatballs', 'Whole Duck', 'Scandinavian',\n",
       "       'Greens', 'Catfish', 'Dehydrator', 'Duck Breasts', 'Savory',\n",
       "       'Stir Fry', 'Polish', 'Spring', 'Deer', 'Wild Game', 'Pheasant',\n",
       "       'No Shell Fish', 'Collard Greens', 'Tilapia', 'Quail',\n",
       "       'Refrigerator', 'Canning', 'Moroccan', 'Pressure Cooker', 'Squid',\n",
       "       'Korean', 'Plums', 'Danish', 'Creole', 'Mahi Mahi', 'Tarts',\n",
       "       'Spinach', 'Hawaiian', 'Homeopathy/Remedies', 'Austrian',\n",
       "       'Thanksgiving', 'Moose', 'Bath/Beauty', 'Swedish', 'High Fiber',\n",
       "       'Kosher', 'Norwegian', 'Household Cleaner', 'Ethiopian', 'Belgian',\n",
       "       'Australian', 'Pennsylvania Dutch', 'Bear', 'Scottish', 'Tempeh',\n",
       "       'Cuban', 'Turkey Breasts', 'Cantonese', 'Tropical Fruits',\n",
       "       'Peanut Butter', 'Szechuan', 'Portuguese', 'Summer Dip',\n",
       "       'Costa Rican', 'Duck', 'Sweet', 'Nuts', 'Filipino', 'Welsh',\n",
       "       'Camping', 'Pot Pie', 'Polynesian', 'Mango', 'Cherries',\n",
       "       'Egyptian', 'Chard', 'Lime', 'Lemon', 'Brunch', 'Toddler Friendly',\n",
       "       'Kiwifruit', 'Whitefish', 'South American', 'Malaysian', 'Octopus',\n",
       "       'Nigerian', 'Mixer', 'Venezuelan', 'Halloween', 'Stove Top',\n",
       "       'Bread Machine', 'Georgian', 'South African', 'Finnish',\n",
       "       'Deep Fried', 'Beginner Cook', 'Steam', 'Small Appliance',\n",
       "       'Nepalese', 'Palestinian', 'Egg Free', 'Czech', 'Icelandic',\n",
       "       'Dairy Free Foods', 'Hunan', 'Avocado', 'Iraqi', 'Pakistani',\n",
       "       'Chocolate Chip Cookies', 'Chilean', 'Puerto Rican', 'Ecuadorean',\n",
       "       'Oysters', 'Inexpensive', 'Hanukkah', 'Breakfast Eggs',\n",
       "       'Cambodian', 'Honduran', 'Sudanese', 'Mongolian', 'Peruvian',\n",
       "       'Peanut Butter Pie', 'Ham And Bean Soup', 'Bread Pudding',\n",
       "       'Fish Tuna', 'Margarita', 'Bean Soup', 'Turkey Gravy',\n",
       "       'Spaghetti Sauce', 'Freezer', 'Lemon Cake', 'Buttermilk Biscuits',\n",
       "       'Black Bean Soup', 'Gluten Free Appetizers', 'Somalian',\n",
       "       'Ice Cream', 'Fish Salmon', 'Snacks Sweet', 'Main Dish Casseroles',\n",
       "       'Pot Roast', 'Potato Soup', 'Broccoli Soup', 'Apple Pie',\n",
       "       'Oatmeal', 'Soups Crock Pot', 'Roast Beef Crock Pot',\n",
       "       'From Scratch', 'Artichoke', 'Key Lime Pie', 'Chicken Crock Pot',\n",
       "       'Wheat Bread', 'Mushroom Soup', 'Indian', 'Breakfast Casseroles',\n",
       "       'Grapes', 'Macaroni And Cheese', 'Mashed Potatoes',\n",
       "       'Desserts Fruit', 'Birthday', 'Pumpkin', 'Baking', 'Beef Liver',\n",
       "       'Memorial Day', 'Guatemalan', 'Coconut Cream Pie', 'Labor Day'],\n",
       "      dtype=object)"
      ]
     },
     "execution_count": 8,
     "metadata": {},
     "output_type": "execute_result"
    }
   ],
   "source": [
    "# Look at category options\n",
    "recipes[\"RecipeCategory\"].unique()"
   ]
  },
  {
   "cell_type": "markdown",
   "metadata": {},
   "source": [
    "### Making 6 Major Categories to Compare"
   ]
  },
  {
   "cell_type": "code",
   "execution_count": 9,
   "metadata": {},
   "outputs": [],
   "source": [
    "# There are > 266 categories\n",
    "# Will make lists of major categories to sort:\n",
    "# Tarts and Scones will not be included as they can also be savory (not dessert)\n",
    "dessert = [\"dessert\", \"Bar Cookie\", \"Ice Cream\", \"Cheesecake\", \"Frozen Dessert\", \"Candy\", \"Drop Cookies\", \"Pie\", \"Key Lime Pie\", \"Coconut Cream Pie\", \"Chocolate Chip Cookies\", \"Bread Pudding\"]\n",
    "breakfast_brunch = [\"Breakfast\", \"Breakfast Casseroles\", \"Brunch\"]\n",
    "holiday = [\"Memorial Day\", \"Thanksgiving\", \"St. Patrick's Day\", \"Halloween\", \"Christmas\", \"Easter\", \"Labor Day\", \"Birthday\", \"Hanukkah\"]\n",
    "healthy = [\"Very Low Carbs\", \"Low Cholesterol\", \"Healthy\", \"High Fiber\"]\n",
    "breads =[\"Yeast Breads\", \"Breads\", \"Quick Breads\", \"Sourdough Breads\", \"Buttermilk Biscuits\", \"Wheat Bread\"]\n",
    "quick = [\"< 30 Mins\", \"< 15 Mins\", \"< 60 Mins\", \"Weeknight\", \"Quick Breads\"]"
   ]
  },
  {
   "cell_type": "code",
   "execution_count": 14,
   "metadata": {},
   "outputs": [
    {
     "data": {
      "text/plain": [
       "4.6"
      ]
     },
     "execution_count": 14,
     "metadata": {},
     "output_type": "execute_result"
    }
   ],
   "source": [
    "x = round((recipes.loc[recipes[\"RecipeCategory\"].isin(dessert)][\"AggregatedRating\"]).mean(), 2)\n",
    "x"
   ]
  },
  {
   "cell_type": "code",
   "execution_count": 16,
   "metadata": {},
   "outputs": [],
   "source": [
    "# Will make a dictionary comprehension to look at average rating based on category\n",
    "categories = [dessert, breakfast_brunch, holiday, healthy, breads, quick]\n",
    "categories_strings = ['dessert', 'breakfast_brunch', 'holiday', 'healthy', 'breads', 'quick']\n",
    "\n",
    "rating_by_category_dict = {\n",
    "     \n",
    "    label: round((recipes.loc[recipes[\"RecipeCategory\"].isin(cat)][\"AggregatedRating\"]).mean(), 2)\n",
    "    for label, cat in zip(categories_strings, categories)\n",
    "}\n"
   ]
  },
  {
   "cell_type": "code",
   "execution_count": 17,
   "metadata": {},
   "outputs": [
    {
     "data": {
      "text/plain": [
       "{'dessert': 4.6,\n",
       " 'breakfast_brunch': 4.64,\n",
       " 'holiday': 4.67,\n",
       " 'healthy': 4.64,\n",
       " 'breads': 4.6,\n",
       " 'quick': 4.62}"
      ]
     },
     "execution_count": 17,
     "metadata": {},
     "output_type": "execute_result"
    }
   ],
   "source": [
    "rating_by_category_dict"
   ]
  },
  {
   "cell_type": "code",
   "execution_count": 33,
   "metadata": {},
   "outputs": [
    {
     "data": {
      "text/plain": [
       "<Figure size 4320x216 with 0 Axes>"
      ]
     },
     "execution_count": 33,
     "metadata": {},
     "output_type": "execute_result"
    },
    {
     "data": {
      "image/png": "[encoded data removed]",
      "text/plain": [
       "<Figure size 432x288 with 1 Axes>"
      ]
     },
     "metadata": {
      "needs_background": "light"
     },
     "output_type": "display_data"
    },
    {
     "data": {
      "text/plain": [
       "<Figure size 4320x216 with 0 Axes>"
      ]
     },
     "metadata": {},
     "output_type": "display_data"
    }
   ],
   "source": [
    "# Make a bar chart to display\n",
    "# Grab the ratings from the dictionary\n",
    "ratings = [y for key,y in rating_by_category_dict.items()]\n",
    "plt.bar(categories_strings, ratings)\n",
    "plt.xlabel(\"Category\")\n",
    "plt.xticks(rotation = 45)\n",
    "plt.ylabel(\"Rating\")\n",
    "plt.title(\"Average Rating Per Major Category\")\n",
    "plt.figure(figsize=(60, 3))"
   ]
  },
  {
   "cell_type": "markdown",
   "metadata": {},
   "source": [
    "# Question 1 Part 2: Similar average ratings, what do the distributions look like for each major category?"
   ]
  },
  {
   "cell_type": "code",
   "execution_count": null,
   "metadata": {},
   "outputs": [],
   "source": []
  }
 ],
 "metadata": {
  "kernelspec": {
   "display_name": "Python 3.9.12 ('base')",
   "language": "python",
   "name": "python3"
  },
  "language_info": {
   "codemirror_mode": {
    "name": "ipython",
    "version": 3
   },
   "file_extension": ".py",
   "mimetype": "text/x-python",
   "name": "python",
   "nbconvert_exporter": "python",
   "pygments_lexer": "ipython3",
   "version": "3.9.12"
  },
  "orig_nbformat": 4,
  "vscode": {
   "interpreter": {
    "hash": "8ca3c2b93fec3a68989a8a35ad4ad37f554c7436255229aa8dbd97e50d16e03f"
   }
  }
 },
 "nbformat": 4,
 "nbformat_minor": 2
}
